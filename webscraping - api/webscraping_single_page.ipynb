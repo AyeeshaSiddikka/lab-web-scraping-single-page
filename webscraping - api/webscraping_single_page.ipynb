{
 "cells": [
  {
   "cell_type": "code",
   "execution_count": 41,
   "id": "4e48d7f3",
   "metadata": {},
   "outputs": [],
   "source": [
    "from bs4 import BeautifulSoup\n",
    "import requests\n",
    "import pandas as pd\n",
    "import random"
   ]
  },
  {
   "cell_type": "code",
   "execution_count": 42,
   "id": "d5cbba5a",
   "metadata": {},
   "outputs": [],
   "source": [
    "url = \"https://www.popvortex.com/music/charts/top-100-songs.php\""
   ]
  },
  {
   "cell_type": "code",
   "execution_count": 43,
   "id": "0821d827",
   "metadata": {},
   "outputs": [
    {
     "data": {
      "text/plain": [
       "200"
      ]
     },
     "execution_count": 43,
     "metadata": {},
     "output_type": "execute_result"
    }
   ],
   "source": [
    "response = requests.get(url)\n",
    "response.status_code "
   ]
  },
  {
   "cell_type": "code",
   "execution_count": 44,
   "id": "8506fe4c",
   "metadata": {},
   "outputs": [],
   "source": [
    "soup = BeautifulSoup(response.content, \"html.parser\")"
   ]
  },
  {
   "cell_type": "code",
   "execution_count": 45,
   "id": "54aae937",
   "metadata": {},
   "outputs": [],
   "source": [
    "#soup"
   ]
  },
  {
   "cell_type": "code",
   "execution_count": 46,
   "id": "6ad32eb6",
   "metadata": {},
   "outputs": [],
   "source": [
    "title_artists = soup.select(\"p.title-artist\")\n",
    "#print(title_artists)"
   ]
  },
  {
   "cell_type": "code",
   "execution_count": 47,
   "id": "869d1f38",
   "metadata": {},
   "outputs": [],
   "source": [
    "for i in title_artists:\n",
    "    i.select(\".title\")[0].get_text()\n",
    "    i.select(\".artist\")[0].get_text()\n",
    "#     print(i.select(\".title\")[0].get_text())\n",
    "#     print(i.select(\".artist\")[0].get_text())\n",
    "     "
   ]
  },
  {
   "cell_type": "code",
   "execution_count": 48,
   "id": "f498e14c",
   "metadata": {},
   "outputs": [],
   "source": [
    "#initialize empty lists\n",
    "song_title = []\n",
    "singers = []\n",
    "\n",
    "\n",
    "num_iter = len(soup.select(\"p.title-artist\"))\n",
    "\n",
    "song_list = soup.select(\".title\")\n",
    "singers_list = soup.select(\".artist\")\n",
    "# iterate through the result set and retrive all the data\n",
    "for i in range(num_iter):\n",
    "    song_title.append(song_list[i].get_text())\n",
    "    singers.append(singers_list[i].get_text())\n",
    "    \n",
    "\n",
    "# print(song_title)\n",
    "# print(singers)\n",
    "\n"
   ]
  },
  {
   "cell_type": "code",
   "execution_count": 49,
   "id": "9074be26",
   "metadata": {},
   "outputs": [],
   "source": [
    "songs = pd.DataFrame({\"song_title\":song_title,\n",
    "                       \"artists\":singers,\n",
    "                       \n",
    "                      })"
   ]
  },
  {
   "cell_type": "code",
   "execution_count": 50,
   "id": "eaf0e918",
   "metadata": {},
   "outputs": [
    {
     "data": {
      "text/html": [
       "<div>\n",
       "<style scoped>\n",
       "    .dataframe tbody tr th:only-of-type {\n",
       "        vertical-align: middle;\n",
       "    }\n",
       "\n",
       "    .dataframe tbody tr th {\n",
       "        vertical-align: top;\n",
       "    }\n",
       "\n",
       "    .dataframe thead th {\n",
       "        text-align: right;\n",
       "    }\n",
       "</style>\n",
       "<table border=\"1\" class=\"dataframe\">\n",
       "  <thead>\n",
       "    <tr style=\"text-align: right;\">\n",
       "      <th></th>\n",
       "      <th>song_title</th>\n",
       "      <th>artists</th>\n",
       "    </tr>\n",
       "  </thead>\n",
       "  <tbody>\n",
       "    <tr>\n",
       "      <th>0</th>\n",
       "      <td>Unholy</td>\n",
       "      <td>Sam Smith &amp; Kim Petras</td>\n",
       "    </tr>\n",
       "    <tr>\n",
       "      <th>1</th>\n",
       "      <td>I'm Good (Blue)</td>\n",
       "      <td>David Guetta &amp; Bebe Rexha</td>\n",
       "    </tr>\n",
       "    <tr>\n",
       "      <th>2</th>\n",
       "      <td>Face It Alone</td>\n",
       "      <td>Queen</td>\n",
       "    </tr>\n",
       "    <tr>\n",
       "      <th>3</th>\n",
       "      <td>Thank God</td>\n",
       "      <td>Kane Brown &amp; Katelyn Brown</td>\n",
       "    </tr>\n",
       "    <tr>\n",
       "      <th>4</th>\n",
       "      <td>wait in the truck</td>\n",
       "      <td>HARDY &amp; Lainey Wilson</td>\n",
       "    </tr>\n",
       "    <tr>\n",
       "      <th>5</th>\n",
       "      <td>A Thousand Years</td>\n",
       "      <td>Christina Perri</td>\n",
       "    </tr>\n",
       "    <tr>\n",
       "      <th>6</th>\n",
       "      <td>Everywhere</td>\n",
       "      <td>Fleetwood Mac</td>\n",
       "    </tr>\n",
       "    <tr>\n",
       "      <th>7</th>\n",
       "      <td>Son Of A Sinner</td>\n",
       "      <td>Jelly Roll</td>\n",
       "    </tr>\n",
       "    <tr>\n",
       "      <th>8</th>\n",
       "      <td>You Proof</td>\n",
       "      <td>Morgan Wallen</td>\n",
       "    </tr>\n",
       "    <tr>\n",
       "      <th>9</th>\n",
       "      <td>Left and Right</td>\n",
       "      <td>Charlie Puth &amp; Jung Kook</td>\n",
       "    </tr>\n",
       "  </tbody>\n",
       "</table>\n",
       "</div>"
      ],
      "text/plain": [
       "          song_title                     artists\n",
       "0             Unholy      Sam Smith & Kim Petras\n",
       "1    I'm Good (Blue)   David Guetta & Bebe Rexha\n",
       "2      Face It Alone                       Queen\n",
       "3          Thank God  Kane Brown & Katelyn Brown\n",
       "4  wait in the truck       HARDY & Lainey Wilson\n",
       "5   A Thousand Years             Christina Perri\n",
       "6         Everywhere               Fleetwood Mac\n",
       "7    Son Of A Sinner                  Jelly Roll\n",
       "8          You Proof               Morgan Wallen\n",
       "9     Left and Right    Charlie Puth & Jung Kook"
      ]
     },
     "execution_count": 50,
     "metadata": {},
     "output_type": "execute_result"
    }
   ],
   "source": [
    "songs.head(10)"
   ]
  },
  {
   "cell_type": "code",
   "execution_count": 51,
   "id": "f911b840",
   "metadata": {},
   "outputs": [
    {
     "name": "stdout",
     "output_type": "stream",
     "text": [
      "100\n"
     ]
    }
   ],
   "source": [
    "print(len(songs))"
   ]
  },
  {
   "cell_type": "code",
   "execution_count": 52,
   "id": "08f6e5e5",
   "metadata": {},
   "outputs": [],
   "source": [
    "# did scraping in another website"
   ]
  },
  {
   "cell_type": "code",
   "execution_count": 53,
   "id": "37d19daa",
   "metadata": {},
   "outputs": [],
   "source": [
    "url1 = \"https://www.billboard.com/charts/hot-100/\""
   ]
  },
  {
   "cell_type": "code",
   "execution_count": 54,
   "id": "766202a4",
   "metadata": {},
   "outputs": [
    {
     "data": {
      "text/plain": [
       "200"
      ]
     },
     "execution_count": 54,
     "metadata": {},
     "output_type": "execute_result"
    }
   ],
   "source": [
    "response = requests.get(url1)\n",
    "response.status_code "
   ]
  },
  {
   "cell_type": "code",
   "execution_count": 55,
   "id": "3cd0860d",
   "metadata": {},
   "outputs": [],
   "source": [
    "soup1 = BeautifulSoup(response.content, \"html.parser\")"
   ]
  },
  {
   "cell_type": "code",
   "execution_count": 56,
   "id": "1fba9545",
   "metadata": {},
   "outputs": [],
   "source": [
    "#soup1"
   ]
  },
  {
   "cell_type": "code",
   "execution_count": 57,
   "id": "e571a0bf",
   "metadata": {},
   "outputs": [],
   "source": [
    "song_singers = soup1.select(\"ul.lrv-a-unstyle-list > li.o-chart-results-list__item.lrv-u-flex-grow-1.lrv-u-flex.lrv-u-flex-direction-column.lrv-u-justify-content-center.lrv-u-border-b-1.lrv-u-border-color-grey-light.lrv-u-padding-l-050\")\n",
    "#print(song_singers)"
   ]
  },
  {
   "cell_type": "code",
   "execution_count": 58,
   "id": "c6c3cca9",
   "metadata": {},
   "outputs": [
    {
     "name": "stdout",
     "output_type": "stream",
     "text": [
      "(99, 2)\n"
     ]
    }
   ],
   "source": [
    "titles = []\n",
    "singers = []\n",
    "for i in song_singers:\n",
    "    titles.append(i.select(\"h3#title-of-a-story\")[0].get_text().strip()) # #- for accessing ID attribute.\n",
    "    singers.append(i.select(\"span.c-label\")[0].get_text().strip())\n",
    "    \n",
    "songs1= pd.DataFrame({'song_title': titles, 'artists': singers})\n",
    "print(songs1.shape)\n"
   ]
  },
  {
   "cell_type": "code",
   "execution_count": 59,
   "id": "0b448852",
   "metadata": {},
   "outputs": [],
   "source": [
    "df = pd.concat([songs, songs1])"
   ]
  },
  {
   "cell_type": "code",
   "execution_count": 60,
   "id": "2b0b14e6",
   "metadata": {},
   "outputs": [
    {
     "data": {
      "text/plain": [
       "(199, 2)"
      ]
     },
     "execution_count": 60,
     "metadata": {},
     "output_type": "execute_result"
    }
   ],
   "source": [
    "df.shape"
   ]
  },
  {
   "cell_type": "code",
   "execution_count": 61,
   "id": "afcf93ac",
   "metadata": {},
   "outputs": [],
   "source": [
    "\n",
    "#df[df.duplicated()]"
   ]
  },
  {
   "cell_type": "code",
   "execution_count": 62,
   "id": "ea67c2df",
   "metadata": {},
   "outputs": [],
   "source": [
    "url2 =\"https://www.listchallenges.com/top-1000-songs-of-all-time-acclaimed-music\""
   ]
  },
  {
   "cell_type": "code",
   "execution_count": 63,
   "id": "cad4996b",
   "metadata": {},
   "outputs": [
    {
     "data": {
      "text/plain": [
       "200"
      ]
     },
     "execution_count": 63,
     "metadata": {},
     "output_type": "execute_result"
    }
   ],
   "source": [
    "response = requests.get(url2)\n",
    "response.status_code "
   ]
  },
  {
   "cell_type": "code",
   "execution_count": 64,
   "id": "7e9f6d6f",
   "metadata": {},
   "outputs": [],
   "source": [
    "soup2 = BeautifulSoup(response.content, \"html.parser\")"
   ]
  },
  {
   "cell_type": "code",
   "execution_count": 65,
   "id": "a6aa4e16",
   "metadata": {},
   "outputs": [],
   "source": [
    "#soup2"
   ]
  },
  {
   "cell_type": "code",
   "execution_count": 66,
   "id": "e1b7a23a",
   "metadata": {},
   "outputs": [],
   "source": [
    "from time import sleep\n",
    "from random import randint"
   ]
  },
  {
   "cell_type": "code",
   "execution_count": 67,
   "id": "df587e0e",
   "metadata": {},
   "outputs": [
    {
     "data": {
      "text/plain": [
       "[1,\n",
       " 2,\n",
       " 3,\n",
       " 4,\n",
       " 5,\n",
       " 6,\n",
       " 7,\n",
       " 8,\n",
       " 9,\n",
       " 10,\n",
       " 11,\n",
       " 12,\n",
       " 13,\n",
       " 14,\n",
       " 15,\n",
       " 16,\n",
       " 17,\n",
       " 18,\n",
       " 19,\n",
       " 20,\n",
       " 21,\n",
       " 22,\n",
       " 23,\n",
       " 24,\n",
       " 25]"
      ]
     },
     "execution_count": 67,
     "metadata": {},
     "output_type": "execute_result"
    }
   ],
   "source": [
    "iterations = range(1, 26)\n",
    "[i for i in iterations]"
   ]
  },
  {
   "cell_type": "code",
   "execution_count": 68,
   "id": "6d43c2e7",
   "metadata": {},
   "outputs": [
    {
     "name": "stdout",
     "output_type": "stream",
     "text": [
      "Status code: 200\n",
      "I will sleep for 1 second/s.\n",
      "Status code: 200\n",
      "I will sleep for 2 second/s.\n",
      "Status code: 200\n",
      "I will sleep for 1 second/s.\n",
      "Status code: 200\n",
      "I will sleep for 4 second/s.\n",
      "Status code: 200\n",
      "I will sleep for 2 second/s.\n",
      "Status code: 200\n",
      "I will sleep for 3 second/s.\n",
      "Status code: 200\n",
      "I will sleep for 2 second/s.\n",
      "Status code: 200\n",
      "I will sleep for 2 second/s.\n",
      "Status code: 200\n",
      "I will sleep for 1 second/s.\n",
      "Status code: 200\n",
      "I will sleep for 3 second/s.\n",
      "Status code: 200\n",
      "I will sleep for 1 second/s.\n",
      "Status code: 200\n",
      "I will sleep for 2 second/s.\n",
      "Status code: 200\n",
      "I will sleep for 1 second/s.\n",
      "Status code: 200\n",
      "I will sleep for 4 second/s.\n",
      "Status code: 200\n",
      "I will sleep for 3 second/s.\n",
      "Status code: 200\n",
      "I will sleep for 3 second/s.\n",
      "Status code: 200\n",
      "I will sleep for 4 second/s.\n",
      "Status code: 200\n",
      "I will sleep for 1 second/s.\n",
      "Status code: 200\n",
      "I will sleep for 4 second/s.\n",
      "Status code: 200\n",
      "I will sleep for 4 second/s.\n",
      "Status code: 200\n",
      "I will sleep for 4 second/s.\n",
      "Status code: 200\n",
      "I will sleep for 4 second/s.\n",
      "Status code: 200\n",
      "I will sleep for 1 second/s.\n",
      "Status code: 200\n",
      "I will sleep for 3 second/s.\n",
      "Status code: 200\n",
      "I will sleep for 2 second/s.\n"
     ]
    }
   ],
   "source": [
    "pages = []\n",
    "\n",
    "for i in iterations:\n",
    "    # assemble the url:\n",
    "    start_at= str(i)\n",
    "    url3 = \"https://www.listchallenges.com/top-1000-songs-of-all-time-acclaimed-music/list/\" + start_at \n",
    "\n",
    "    # download html with a get request:\n",
    "    response4 = requests.get(url3)\n",
    "    #response = requests.get(url, headers = {\"Accept-Language\": \"en-US\"})\n",
    "\n",
    "    # monitor the process by printing the status code\n",
    "    print(\"Status code: \" + str(response4.status_code))\n",
    "\n",
    "    # store response into \"pages\" list\n",
    "    pages.append(response4)\n",
    "\n",
    "    # respectful nap:\n",
    "    wait_time = randint(1,4)\n",
    "    print(\"I will sleep for \" + str(wait_time) + \" second/s.\")\n",
    "    sleep(wait_time)"
   ]
  },
  {
   "cell_type": "code",
   "execution_count": 69,
   "id": "83dc6c98",
   "metadata": {},
   "outputs": [],
   "source": [
    "#pages[0].content"
   ]
  },
  {
   "cell_type": "code",
   "execution_count": 70,
   "id": "77261142",
   "metadata": {},
   "outputs": [
    {
     "data": {
      "text/plain": [
       "1000"
      ]
     },
     "execution_count": 70,
     "metadata": {},
     "output_type": "execute_result"
    }
   ],
   "source": [
    "songs_div = []\n",
    "for i in range(0, len(pages)):\n",
    "    soup3 = BeautifulSoup(pages[i].content, \"html.parser\")\n",
    "    songs_div.extend(soup3.find_all('div', class_ = 'item-name'))\n",
    "\n",
    "len(songs_div)"
   ]
  },
  {
   "cell_type": "code",
   "execution_count": 71,
   "id": "e121931e",
   "metadata": {},
   "outputs": [],
   "source": [
    "import numpy as np\n",
    "song_thousand = []\n",
    "for song in songs_div:\n",
    "    song_thousand.append(song.get_text().replace('\\r', '').replace('\\n', '').replace('\\t', ''))\n",
    "    \n",
    "#print(songs_1000)\n",
    "song_thousand = [item.split('-') for item in song_thousand]\n",
    "#song_thousand "
   ]
  },
  {
   "cell_type": "code",
   "execution_count": 72,
   "id": "9150ebeb",
   "metadata": {},
   "outputs": [
    {
     "data": {
      "text/html": [
       "<div>\n",
       "<style scoped>\n",
       "    .dataframe tbody tr th:only-of-type {\n",
       "        vertical-align: middle;\n",
       "    }\n",
       "\n",
       "    .dataframe tbody tr th {\n",
       "        vertical-align: top;\n",
       "    }\n",
       "\n",
       "    .dataframe thead th {\n",
       "        text-align: right;\n",
       "    }\n",
       "</style>\n",
       "<table border=\"1\" class=\"dataframe\">\n",
       "  <thead>\n",
       "    <tr style=\"text-align: right;\">\n",
       "      <th></th>\n",
       "      <th>song_title</th>\n",
       "      <th>artists</th>\n",
       "    </tr>\n",
       "  </thead>\n",
       "  <tbody>\n",
       "    <tr>\n",
       "      <th>0</th>\n",
       "      <td>Bob Dylan</td>\n",
       "      <td>Like a Rolling Stone</td>\n",
       "    </tr>\n",
       "    <tr>\n",
       "      <th>1</th>\n",
       "      <td>Nirvana</td>\n",
       "      <td>Smells Like Teen Spirit</td>\n",
       "    </tr>\n",
       "    <tr>\n",
       "      <th>2</th>\n",
       "      <td>A Day in the Life</td>\n",
       "      <td>The Beatles</td>\n",
       "    </tr>\n",
       "    <tr>\n",
       "      <th>3</th>\n",
       "      <td>The Beach Boys, \"Good Vibrations\"</td>\n",
       "      <td>None</td>\n",
       "    </tr>\n",
       "    <tr>\n",
       "      <th>4</th>\n",
       "      <td>Johnny B. Goode</td>\n",
       "      <td>Chuck Berry</td>\n",
       "    </tr>\n",
       "    <tr>\n",
       "      <th>...</th>\n",
       "      <td>...</td>\n",
       "      <td>...</td>\n",
       "    </tr>\n",
       "    <tr>\n",
       "      <th>995</th>\n",
       "      <td>Drunk Drivers / Killer Whales</td>\n",
       "      <td>Car Seat Headrest</td>\n",
       "    </tr>\n",
       "    <tr>\n",
       "      <th>996</th>\n",
       "      <td>Pinball Wizard (The Who)</td>\n",
       "      <td>None</td>\n",
       "    </tr>\n",
       "    <tr>\n",
       "      <th>997</th>\n",
       "      <td>Up on the Roof</td>\n",
       "      <td>The Drifters</td>\n",
       "    </tr>\n",
       "    <tr>\n",
       "      <th>998</th>\n",
       "      <td>Burning Down the House</td>\n",
       "      <td>Talking Heads</td>\n",
       "    </tr>\n",
       "    <tr>\n",
       "      <th>999</th>\n",
       "      <td>Good Lovin'</td>\n",
       "      <td>The Young Rascals</td>\n",
       "    </tr>\n",
       "  </tbody>\n",
       "</table>\n",
       "<p>1000 rows × 2 columns</p>\n",
       "</div>"
      ],
      "text/plain": [
       "                            song_title                   artists\n",
       "0                           Bob Dylan       Like a Rolling Stone\n",
       "1                             Nirvana    Smells Like Teen Spirit\n",
       "2                   A Day in the Life                The Beatles\n",
       "3    The Beach Boys, \"Good Vibrations\"                      None\n",
       "4                     Johnny B. Goode                Chuck Berry\n",
       "..                                 ...                       ...\n",
       "995     Drunk Drivers / Killer Whales          Car Seat Headrest\n",
       "996           Pinball Wizard (The Who)                      None\n",
       "997                    Up on the Roof               The Drifters\n",
       "998            Burning Down the House              Talking Heads\n",
       "999                       Good Lovin'          The Young Rascals\n",
       "\n",
       "[1000 rows x 2 columns]"
      ]
     },
     "execution_count": 72,
     "metadata": {},
     "output_type": "execute_result"
    }
   ],
   "source": [
    "df1 = pd.DataFrame(song_thousand,columns=['song_title','artists','1','2']) # because of the intials for the artist getting an extra columns so drop the unwanted columns.\n",
    "df1 = df1.drop(columns=['1', '2'],axis = 1)\n",
    "df1"
   ]
  },
  {
   "cell_type": "code",
   "execution_count": 73,
   "id": "1ce3672d",
   "metadata": {},
   "outputs": [],
   "source": [
    "frames = [df, df1]\n",
    "df_new = pd.concat(frames)\n",
    "df_new['song_title'] = df_new['song_title'].str.strip()\n",
    "df_new['artists'] = df_new['artists'].str.strip()"
   ]
  },
  {
   "cell_type": "code",
   "execution_count": 74,
   "id": "2baf279c",
   "metadata": {},
   "outputs": [
    {
     "data": {
      "text/html": [
       "<div>\n",
       "<style scoped>\n",
       "    .dataframe tbody tr th:only-of-type {\n",
       "        vertical-align: middle;\n",
       "    }\n",
       "\n",
       "    .dataframe tbody tr th {\n",
       "        vertical-align: top;\n",
       "    }\n",
       "\n",
       "    .dataframe thead th {\n",
       "        text-align: right;\n",
       "    }\n",
       "</style>\n",
       "<table border=\"1\" class=\"dataframe\">\n",
       "  <thead>\n",
       "    <tr style=\"text-align: right;\">\n",
       "      <th></th>\n",
       "      <th>song_title</th>\n",
       "      <th>artists</th>\n",
       "    </tr>\n",
       "  </thead>\n",
       "  <tbody>\n",
       "    <tr>\n",
       "      <th>0</th>\n",
       "      <td>Unholy</td>\n",
       "      <td>Sam Smith &amp; Kim Petras</td>\n",
       "    </tr>\n",
       "    <tr>\n",
       "      <th>1</th>\n",
       "      <td>I'm Good (Blue)</td>\n",
       "      <td>David Guetta &amp; Bebe Rexha</td>\n",
       "    </tr>\n",
       "    <tr>\n",
       "      <th>2</th>\n",
       "      <td>Face It Alone</td>\n",
       "      <td>Queen</td>\n",
       "    </tr>\n",
       "    <tr>\n",
       "      <th>3</th>\n",
       "      <td>Thank God</td>\n",
       "      <td>Kane Brown &amp; Katelyn Brown</td>\n",
       "    </tr>\n",
       "    <tr>\n",
       "      <th>4</th>\n",
       "      <td>wait in the truck</td>\n",
       "      <td>HARDY &amp; Lainey Wilson</td>\n",
       "    </tr>\n",
       "    <tr>\n",
       "      <th>...</th>\n",
       "      <td>...</td>\n",
       "      <td>...</td>\n",
       "    </tr>\n",
       "    <tr>\n",
       "      <th>995</th>\n",
       "      <td>Drunk Drivers / Killer Whales</td>\n",
       "      <td>Car Seat Headrest</td>\n",
       "    </tr>\n",
       "    <tr>\n",
       "      <th>996</th>\n",
       "      <td>Pinball Wizard (The Who)</td>\n",
       "      <td>None</td>\n",
       "    </tr>\n",
       "    <tr>\n",
       "      <th>997</th>\n",
       "      <td>Up on the Roof</td>\n",
       "      <td>The Drifters</td>\n",
       "    </tr>\n",
       "    <tr>\n",
       "      <th>998</th>\n",
       "      <td>Burning Down the House</td>\n",
       "      <td>Talking Heads</td>\n",
       "    </tr>\n",
       "    <tr>\n",
       "      <th>999</th>\n",
       "      <td>Good Lovin'</td>\n",
       "      <td>The Young Rascals</td>\n",
       "    </tr>\n",
       "  </tbody>\n",
       "</table>\n",
       "<p>1199 rows × 2 columns</p>\n",
       "</div>"
      ],
      "text/plain": [
       "                        song_title                     artists\n",
       "0                           Unholy      Sam Smith & Kim Petras\n",
       "1                  I'm Good (Blue)   David Guetta & Bebe Rexha\n",
       "2                    Face It Alone                       Queen\n",
       "3                        Thank God  Kane Brown & Katelyn Brown\n",
       "4                wait in the truck       HARDY & Lainey Wilson\n",
       "..                             ...                         ...\n",
       "995  Drunk Drivers / Killer Whales           Car Seat Headrest\n",
       "996       Pinball Wizard (The Who)                        None\n",
       "997                 Up on the Roof                The Drifters\n",
       "998         Burning Down the House               Talking Heads\n",
       "999                    Good Lovin'           The Young Rascals\n",
       "\n",
       "[1199 rows x 2 columns]"
      ]
     },
     "execution_count": 74,
     "metadata": {},
     "output_type": "execute_result"
    }
   ],
   "source": [
    "df_new"
   ]
  },
  {
   "cell_type": "code",
   "execution_count": 75,
   "id": "ce6b81b1",
   "metadata": {},
   "outputs": [],
   "source": [
    "# checked for the NAN's and replaced the nan with emptyvlaues\n",
    "df_new.isna().sum()\n",
    "\n",
    "df_new = df_new.fillna('')\n",
    "#df_new.isna().sum()"
   ]
  },
  {
   "cell_type": "code",
   "execution_count": 76,
   "id": "b6340a4f",
   "metadata": {
    "scrolled": true
   },
   "outputs": [
    {
     "data": {
      "text/plain": [
       "31"
      ]
     },
     "execution_count": 76,
     "metadata": {},
     "output_type": "execute_result"
    }
   ],
   "source": [
    "# checked the duplicates and removed them from the data frame and decided not to remove \n",
    "\n",
    "len(df_new[df_new.duplicated()])"
   ]
  },
  {
   "cell_type": "code",
   "execution_count": 77,
   "id": "598ce849",
   "metadata": {},
   "outputs": [],
   "source": [
    "df_new.to_csv('./top_100_songs.csv', index = False)"
   ]
  },
  {
   "cell_type": "code",
   "execution_count": 78,
   "id": "5af3d9b7",
   "metadata": {},
   "outputs": [],
   "source": [
    "def song_recommender():\n",
    "    a = input(\"Enter your favorite song: \")\n",
    "# here i changed the user input to lower case because end user can give the input in any case.\n",
    "# also i want to give the recommendation for the user atleast one word matches.\n",
    "# so i used inline looping.\n",
    "    \n",
    "    if((any(a.lower() in title for title in df_new['song_title'].str.lower().values)) or (any(a.lower() in artist for artist in df_new['artists'].str.lower().values))):\n",
    "#     if ((a.lower() in df_new['song_title'].str.lower().values) or (a.lower() in df_new['artists'].str.lower().values)):\n",
    "        ran_num = random.choice(df_new['song_title'])\n",
    "        print('Here you go ... We recommend this song for you \\n ENJOY listening to the song:',ran_num)\n",
    "    else:\n",
    "        print(\"Sorry, your song is not on the list and we don't have recommendations\")\n",
    "        \n",
    "        repeat=input(\"Do you want to try another song? y/n\")\n",
    "        if repeat == 'y':\n",
    "            song_recommender()\n",
    "        else:\n",
    "            print(\"Thank you for using our song recommender!\")\n"
   ]
  },
  {
   "cell_type": "code",
   "execution_count": 79,
   "id": "45f7a87b",
   "metadata": {},
   "outputs": [
    {
     "name": "stdout",
     "output_type": "stream",
     "text": [
      "Enter your favorite song: unholy\n",
      "Here you go ... We recommend this song for you \n",
      " ENJOY listening to the song: Monkey Gone to Heaven\n"
     ]
    }
   ],
   "source": [
    "song_recommender()"
   ]
  },
  {
   "cell_type": "code",
   "execution_count": null,
   "id": "84d83c75",
   "metadata": {},
   "outputs": [],
   "source": []
  },
  {
   "cell_type": "markdown",
   "id": "0a9a8327",
   "metadata": {},
   "source": [
    "### Lab | API wrappers - Create your collection of songs & audio features"
   ]
  },
  {
   "cell_type": "code",
   "execution_count": null,
   "id": "4e4bc177",
   "metadata": {},
   "outputs": [],
   "source": []
  },
  {
   "cell_type": "code",
   "execution_count": 80,
   "id": "0bda2dfc",
   "metadata": {},
   "outputs": [],
   "source": [
    "import spotipy\n",
    "from spotipy.oauth2 import SpotifyClientCredentials\n"
   ]
  },
  {
   "cell_type": "code",
   "execution_count": 82,
   "id": "c4451ce0",
   "metadata": {},
   "outputs": [],
   "source": [
    "secrets_file = open(\"secrets.txt\",\"r\") # exact file name or the path of the file where it comes from."
   ]
  },
  {
   "cell_type": "code",
   "execution_count": 83,
   "id": "3622de4c",
   "metadata": {},
   "outputs": [],
   "source": [
    "string = secrets_file.read()"
   ]
  },
  {
   "cell_type": "code",
   "execution_count": 84,
   "id": "e4a50558",
   "metadata": {},
   "outputs": [
    {
     "name": "stdout",
     "output_type": "stream",
     "text": [
      "['cid', '3ff19e99b13f4376a0e01e3a56ee6d40']\n",
      "['csecret', '9c17a9a9f8f84b0bb8967f84bc4dab7c']\n"
     ]
    }
   ],
   "source": [
    "secrets_dict={}\n",
    "for line in string.split('\\n'):\n",
    "    if len(line) > 0:\n",
    "        print(line.split(':'))# gives a list \n",
    "        secrets_dict[line.split(':')[0]]=line.split(':')[1] "
   ]
  },
  {
   "cell_type": "code",
   "execution_count": 85,
   "id": "d5921fd9",
   "metadata": {},
   "outputs": [],
   "source": [
    "\n",
    "#Initialize SpotiPy with user credentials\n",
    "sp = spotipy.Spotify(auth_manager=SpotifyClientCredentials(client_id=secrets_dict['cid'],\n",
    "                                                           client_secret=secrets_dict['csecret']))"
   ]
  },
  {
   "cell_type": "code",
   "execution_count": 86,
   "id": "fde6202a",
   "metadata": {},
   "outputs": [],
   "source": [
    "playlist = sp.user_playlist_tracks(\"spotify\", \"7vgvBOWPqlRXzD7FCin4Aj\")"
   ]
  },
  {
   "cell_type": "code",
   "execution_count": 88,
   "id": "6b397796",
   "metadata": {},
   "outputs": [],
   "source": [
    "#playlist"
   ]
  },
  {
   "cell_type": "code",
   "execution_count": 89,
   "id": "9bf9c1b0",
   "metadata": {},
   "outputs": [
    {
     "data": {
      "text/plain": [
       "dict_keys(['href', 'items', 'limit', 'next', 'offset', 'previous', 'total'])"
      ]
     },
     "execution_count": 89,
     "metadata": {},
     "output_type": "execute_result"
    }
   ],
   "source": [
    "playlist.keys() "
   ]
  },
  {
   "cell_type": "code",
   "execution_count": 90,
   "id": "a4518e5e",
   "metadata": {},
   "outputs": [
    {
     "data": {
      "text/plain": [
       "dict_keys(['added_at', 'added_by', 'is_local', 'primary_color', 'track', 'video_thumbnail'])"
      ]
     },
     "execution_count": 90,
     "metadata": {},
     "output_type": "execute_result"
    }
   ],
   "source": [
    "playlist[\"items\"][0].keys()"
   ]
  },
  {
   "cell_type": "code",
   "execution_count": 92,
   "id": "27eb3792",
   "metadata": {},
   "outputs": [],
   "source": [
    "#playlist[\"items\"][0][\"track\"]"
   ]
  },
  {
   "cell_type": "code",
   "execution_count": 93,
   "id": "22c3d491",
   "metadata": {},
   "outputs": [
    {
     "data": {
      "text/plain": [
       "\"All Your'n\""
      ]
     },
     "execution_count": 93,
     "metadata": {},
     "output_type": "execute_result"
    }
   ],
   "source": [
    "playlist[\"items\"][0][\"track\"][\"name\"]"
   ]
  },
  {
   "cell_type": "code",
   "execution_count": 94,
   "id": "b302f256",
   "metadata": {},
   "outputs": [
    {
     "data": {
      "text/plain": [
       "'Tyler Childers'"
      ]
     },
     "execution_count": 94,
     "metadata": {},
     "output_type": "execute_result"
    }
   ],
   "source": [
    "playlist[\"items\"][0]['track']['artists'][0]['name']\n"
   ]
  },
  {
   "cell_type": "code",
   "execution_count": 95,
   "id": "617f2ad5",
   "metadata": {},
   "outputs": [],
   "source": []
  },
  {
   "cell_type": "code",
   "execution_count": null,
   "id": "34dc888b",
   "metadata": {},
   "outputs": [],
   "source": []
  }
 ],
 "metadata": {
  "kernelspec": {
   "display_name": "Python 3 (ipykernel)",
   "language": "python",
   "name": "python3"
  },
  "language_info": {
   "codemirror_mode": {
    "name": "ipython",
    "version": 3
   },
   "file_extension": ".py",
   "mimetype": "text/x-python",
   "name": "python",
   "nbconvert_exporter": "python",
   "pygments_lexer": "ipython3",
   "version": "3.9.12"
  }
 },
 "nbformat": 4,
 "nbformat_minor": 5
}
