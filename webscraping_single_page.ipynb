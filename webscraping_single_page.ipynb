{
 "cells": [
  {
   "cell_type": "code",
   "execution_count": 1,
   "id": "4e48d7f3",
   "metadata": {},
   "outputs": [],
   "source": [
    "from bs4 import BeautifulSoup\n",
    "import requests\n",
    "import pandas as pd\n",
    "import random"
   ]
  },
  {
   "cell_type": "code",
   "execution_count": 2,
   "id": "d5cbba5a",
   "metadata": {},
   "outputs": [],
   "source": [
    "url = \"https://www.popvortex.com/music/charts/top-100-songs.php\""
   ]
  },
  {
   "cell_type": "code",
   "execution_count": 3,
   "id": "0821d827",
   "metadata": {},
   "outputs": [
    {
     "data": {
      "text/plain": [
       "200"
      ]
     },
     "execution_count": 3,
     "metadata": {},
     "output_type": "execute_result"
    }
   ],
   "source": [
    "response = requests.get(url)\n",
    "response.status_code "
   ]
  },
  {
   "cell_type": "code",
   "execution_count": 4,
   "id": "8506fe4c",
   "metadata": {},
   "outputs": [],
   "source": [
    "soup = BeautifulSoup(response.content, \"html.parser\")"
   ]
  },
  {
   "cell_type": "code",
   "execution_count": 5,
   "id": "54aae937",
   "metadata": {},
   "outputs": [],
   "source": [
    "#soup"
   ]
  },
  {
   "cell_type": "code",
   "execution_count": 6,
   "id": "6ad32eb6",
   "metadata": {},
   "outputs": [],
   "source": [
    "title_artists = soup.select(\"p.title-artist\")\n",
    "#print(title_artists)"
   ]
  },
  {
   "cell_type": "code",
   "execution_count": 7,
   "id": "869d1f38",
   "metadata": {},
   "outputs": [],
   "source": [
    "for i in title_artists:\n",
    "    i.select(\".title\")[0].get_text()\n",
    "    i.select(\".artist\")[0].get_text()\n",
    "#     print(i.select(\".title\")[0].get_text())\n",
    "#     print(i.select(\".artist\")[0].get_text())\n",
    "     "
   ]
  },
  {
   "cell_type": "code",
   "execution_count": 8,
   "id": "f498e14c",
   "metadata": {},
   "outputs": [],
   "source": [
    "#initialize empty lists\n",
    "song_title = []\n",
    "singers = []\n",
    "\n",
    "\n",
    "num_iter = len(soup.select(\"p.title-artist\"))\n",
    "\n",
    "song_list = soup.select(\".title\")\n",
    "singers_list = soup.select(\".artist\")\n",
    "# iterate through the result set and retrive all the data\n",
    "for i in range(num_iter):\n",
    "    song_title.append(song_list[i].get_text())\n",
    "    singers.append(singers_list[i].get_text())\n",
    "    \n",
    "\n",
    "# print(song_title)\n",
    "# print(singers)\n",
    "\n"
   ]
  },
  {
   "cell_type": "code",
   "execution_count": 9,
   "id": "9074be26",
   "metadata": {},
   "outputs": [],
   "source": [
    "songs = pd.DataFrame({\"song_title\":song_title,\n",
    "                       \"artists\":singers,\n",
    "                       \n",
    "                      })"
   ]
  },
  {
   "cell_type": "code",
   "execution_count": 10,
   "id": "eaf0e918",
   "metadata": {},
   "outputs": [
    {
     "data": {
      "text/html": [
       "<div>\n",
       "<style scoped>\n",
       "    .dataframe tbody tr th:only-of-type {\n",
       "        vertical-align: middle;\n",
       "    }\n",
       "\n",
       "    .dataframe tbody tr th {\n",
       "        vertical-align: top;\n",
       "    }\n",
       "\n",
       "    .dataframe thead th {\n",
       "        text-align: right;\n",
       "    }\n",
       "</style>\n",
       "<table border=\"1\" class=\"dataframe\">\n",
       "  <thead>\n",
       "    <tr style=\"text-align: right;\">\n",
       "      <th></th>\n",
       "      <th>song_title</th>\n",
       "      <th>artists</th>\n",
       "    </tr>\n",
       "  </thead>\n",
       "  <tbody>\n",
       "    <tr>\n",
       "      <th>0</th>\n",
       "      <td>Unholy</td>\n",
       "      <td>Sam Smith &amp; Kim Petras</td>\n",
       "    </tr>\n",
       "    <tr>\n",
       "      <th>1</th>\n",
       "      <td>Eagle (feat. KB)</td>\n",
       "      <td>Transformation Worship</td>\n",
       "    </tr>\n",
       "    <tr>\n",
       "      <th>2</th>\n",
       "      <td>I'm Good (Blue)</td>\n",
       "      <td>David Guetta &amp; Bebe Rexha</td>\n",
       "    </tr>\n",
       "    <tr>\n",
       "      <th>3</th>\n",
       "      <td>wait in the truck</td>\n",
       "      <td>HARDY &amp; Lainey Wilson</td>\n",
       "    </tr>\n",
       "    <tr>\n",
       "      <th>4</th>\n",
       "      <td>Everywhere</td>\n",
       "      <td>Fleetwood Mac</td>\n",
       "    </tr>\n",
       "    <tr>\n",
       "      <th>5</th>\n",
       "      <td>Thank God</td>\n",
       "      <td>Kane Brown &amp; Katelyn Brown</td>\n",
       "    </tr>\n",
       "    <tr>\n",
       "      <th>6</th>\n",
       "      <td>A Thousand Years</td>\n",
       "      <td>Christina Perri</td>\n",
       "    </tr>\n",
       "    <tr>\n",
       "      <th>7</th>\n",
       "      <td>Son Of A Sinner</td>\n",
       "      <td>Jelly Roll</td>\n",
       "    </tr>\n",
       "    <tr>\n",
       "      <th>8</th>\n",
       "      <td>Make It With You</td>\n",
       "      <td>Bread</td>\n",
       "    </tr>\n",
       "    <tr>\n",
       "      <th>9</th>\n",
       "      <td>You Proof</td>\n",
       "      <td>Morgan Wallen</td>\n",
       "    </tr>\n",
       "  </tbody>\n",
       "</table>\n",
       "</div>"
      ],
      "text/plain": [
       "          song_title                     artists\n",
       "0             Unholy      Sam Smith & Kim Petras\n",
       "1   Eagle (feat. KB)      Transformation Worship\n",
       "2    I'm Good (Blue)   David Guetta & Bebe Rexha\n",
       "3  wait in the truck       HARDY & Lainey Wilson\n",
       "4         Everywhere               Fleetwood Mac\n",
       "5          Thank God  Kane Brown & Katelyn Brown\n",
       "6   A Thousand Years             Christina Perri\n",
       "7    Son Of A Sinner                  Jelly Roll\n",
       "8   Make It With You                       Bread\n",
       "9          You Proof               Morgan Wallen"
      ]
     },
     "execution_count": 10,
     "metadata": {},
     "output_type": "execute_result"
    }
   ],
   "source": [
    "songs.head(10)"
   ]
  },
  {
   "cell_type": "code",
   "execution_count": 11,
   "id": "f911b840",
   "metadata": {},
   "outputs": [
    {
     "name": "stdout",
     "output_type": "stream",
     "text": [
      "100\n"
     ]
    }
   ],
   "source": [
    "print(len(songs))"
   ]
  },
  {
   "cell_type": "code",
   "execution_count": 12,
   "id": "08f6e5e5",
   "metadata": {},
   "outputs": [],
   "source": [
    "# did scraping in another website"
   ]
  },
  {
   "cell_type": "code",
   "execution_count": 13,
   "id": "37d19daa",
   "metadata": {},
   "outputs": [],
   "source": [
    "url1 = \"https://www.billboard.com/charts/hot-100/\""
   ]
  },
  {
   "cell_type": "code",
   "execution_count": 14,
   "id": "766202a4",
   "metadata": {},
   "outputs": [
    {
     "data": {
      "text/plain": [
       "200"
      ]
     },
     "execution_count": 14,
     "metadata": {},
     "output_type": "execute_result"
    }
   ],
   "source": [
    "response = requests.get(url1)\n",
    "response.status_code "
   ]
  },
  {
   "cell_type": "code",
   "execution_count": 15,
   "id": "3cd0860d",
   "metadata": {},
   "outputs": [],
   "source": [
    "soup1 = BeautifulSoup(response.content, \"html.parser\")"
   ]
  },
  {
   "cell_type": "code",
   "execution_count": 16,
   "id": "1fba9545",
   "metadata": {},
   "outputs": [],
   "source": [
    "#soup1"
   ]
  },
  {
   "cell_type": "code",
   "execution_count": 17,
   "id": "e571a0bf",
   "metadata": {},
   "outputs": [],
   "source": [
    "song_singers = soup1.select(\"ul.lrv-a-unstyle-list > li.o-chart-results-list__item.lrv-u-flex-grow-1.lrv-u-flex.lrv-u-flex-direction-column.lrv-u-justify-content-center.lrv-u-border-b-1.lrv-u-border-color-grey-light.lrv-u-padding-l-050\")\n",
    "#print(song_singers)"
   ]
  },
  {
   "cell_type": "code",
   "execution_count": 18,
   "id": "c6c3cca9",
   "metadata": {},
   "outputs": [
    {
     "name": "stdout",
     "output_type": "stream",
     "text": [
      "(99, 2)\n"
     ]
    }
   ],
   "source": [
    "titles = []\n",
    "singers = []\n",
    "for i in song_singers:\n",
    "    titles.append(i.select(\"h3#title-of-a-story\")[0].get_text().strip()) # #- for accessing ID attribute.\n",
    "    singers.append(i.select(\"span.c-label\")[0].get_text().strip())\n",
    "    \n",
    "songs1= pd.DataFrame({'song_title': titles, 'artists': singers})\n",
    "print(songs1.shape)\n"
   ]
  },
  {
   "cell_type": "code",
   "execution_count": 19,
   "id": "0b448852",
   "metadata": {},
   "outputs": [],
   "source": [
    "df = pd.concat([songs, songs1])"
   ]
  },
  {
   "cell_type": "code",
   "execution_count": 20,
   "id": "2b0b14e6",
   "metadata": {},
   "outputs": [
    {
     "data": {
      "text/plain": [
       "(199, 2)"
      ]
     },
     "execution_count": 20,
     "metadata": {},
     "output_type": "execute_result"
    }
   ],
   "source": [
    "df.shape"
   ]
  },
  {
   "cell_type": "code",
   "execution_count": 21,
   "id": "afcf93ac",
   "metadata": {},
   "outputs": [],
   "source": [
    "\n",
    "#df[df.duplicated()]"
   ]
  },
  {
   "cell_type": "code",
   "execution_count": 22,
   "id": "ea67c2df",
   "metadata": {},
   "outputs": [],
   "source": [
    "url2 =\"https://www.listchallenges.com/top-1000-songs-of-all-time-acclaimed-music\""
   ]
  },
  {
   "cell_type": "code",
   "execution_count": 23,
   "id": "cad4996b",
   "metadata": {},
   "outputs": [
    {
     "data": {
      "text/plain": [
       "200"
      ]
     },
     "execution_count": 23,
     "metadata": {},
     "output_type": "execute_result"
    }
   ],
   "source": [
    "response = requests.get(url2)\n",
    "response.status_code "
   ]
  },
  {
   "cell_type": "code",
   "execution_count": 24,
   "id": "7e9f6d6f",
   "metadata": {},
   "outputs": [],
   "source": [
    "soup2 = BeautifulSoup(response.content, \"html.parser\")"
   ]
  },
  {
   "cell_type": "code",
   "execution_count": 25,
   "id": "a6aa4e16",
   "metadata": {},
   "outputs": [],
   "source": [
    "#soup2"
   ]
  },
  {
   "cell_type": "code",
   "execution_count": 26,
   "id": "e1b7a23a",
   "metadata": {},
   "outputs": [],
   "source": [
    "from time import sleep\n",
    "from random import randint"
   ]
  },
  {
   "cell_type": "code",
   "execution_count": 27,
   "id": "df587e0e",
   "metadata": {},
   "outputs": [
    {
     "data": {
      "text/plain": [
       "[1,\n",
       " 2,\n",
       " 3,\n",
       " 4,\n",
       " 5,\n",
       " 6,\n",
       " 7,\n",
       " 8,\n",
       " 9,\n",
       " 10,\n",
       " 11,\n",
       " 12,\n",
       " 13,\n",
       " 14,\n",
       " 15,\n",
       " 16,\n",
       " 17,\n",
       " 18,\n",
       " 19,\n",
       " 20,\n",
       " 21,\n",
       " 22,\n",
       " 23,\n",
       " 24,\n",
       " 25]"
      ]
     },
     "execution_count": 27,
     "metadata": {},
     "output_type": "execute_result"
    }
   ],
   "source": [
    "iterations = range(1, 26)\n",
    "[i for i in iterations]"
   ]
  },
  {
   "cell_type": "code",
   "execution_count": 28,
   "id": "6d43c2e7",
   "metadata": {},
   "outputs": [
    {
     "name": "stdout",
     "output_type": "stream",
     "text": [
      "Status code: 200\n",
      "I will sleep for 2 second/s.\n",
      "Status code: 200\n",
      "I will sleep for 4 second/s.\n",
      "Status code: 200\n",
      "I will sleep for 2 second/s.\n",
      "Status code: 200\n",
      "I will sleep for 1 second/s.\n",
      "Status code: 200\n",
      "I will sleep for 1 second/s.\n",
      "Status code: 200\n",
      "I will sleep for 3 second/s.\n",
      "Status code: 200\n",
      "I will sleep for 3 second/s.\n",
      "Status code: 200\n",
      "I will sleep for 2 second/s.\n",
      "Status code: 200\n",
      "I will sleep for 3 second/s.\n",
      "Status code: 200\n",
      "I will sleep for 3 second/s.\n",
      "Status code: 200\n",
      "I will sleep for 2 second/s.\n",
      "Status code: 200\n",
      "I will sleep for 4 second/s.\n",
      "Status code: 200\n",
      "I will sleep for 1 second/s.\n",
      "Status code: 200\n",
      "I will sleep for 4 second/s.\n",
      "Status code: 200\n",
      "I will sleep for 2 second/s.\n",
      "Status code: 200\n",
      "I will sleep for 2 second/s.\n",
      "Status code: 200\n",
      "I will sleep for 2 second/s.\n",
      "Status code: 200\n",
      "I will sleep for 1 second/s.\n",
      "Status code: 200\n",
      "I will sleep for 2 second/s.\n",
      "Status code: 200\n",
      "I will sleep for 1 second/s.\n",
      "Status code: 200\n",
      "I will sleep for 4 second/s.\n",
      "Status code: 200\n",
      "I will sleep for 1 second/s.\n",
      "Status code: 200\n",
      "I will sleep for 1 second/s.\n",
      "Status code: 200\n",
      "I will sleep for 2 second/s.\n",
      "Status code: 200\n",
      "I will sleep for 4 second/s.\n"
     ]
    }
   ],
   "source": [
    "pages = []\n",
    "\n",
    "for i in iterations:\n",
    "    # assemble the url:\n",
    "    start_at= str(i)\n",
    "    url3 = \"https://www.listchallenges.com/top-1000-songs-of-all-time-acclaimed-music/list/\" + start_at \n",
    "\n",
    "    # download html with a get request:\n",
    "    response4 = requests.get(url3)\n",
    "    #response = requests.get(url, headers = {\"Accept-Language\": \"en-US\"})\n",
    "\n",
    "    # monitor the process by printing the status code\n",
    "    print(\"Status code: \" + str(response4.status_code))\n",
    "\n",
    "    # store response into \"pages\" list\n",
    "    pages.append(response4)\n",
    "\n",
    "    # respectful nap:\n",
    "    wait_time = randint(1,4)\n",
    "    print(\"I will sleep for \" + str(wait_time) + \" second/s.\")\n",
    "    sleep(wait_time)"
   ]
  },
  {
   "cell_type": "code",
   "execution_count": 29,
   "id": "83dc6c98",
   "metadata": {},
   "outputs": [],
   "source": [
    "#pages[0].content"
   ]
  },
  {
   "cell_type": "code",
   "execution_count": 30,
   "id": "77261142",
   "metadata": {},
   "outputs": [
    {
     "data": {
      "text/plain": [
       "1000"
      ]
     },
     "execution_count": 30,
     "metadata": {},
     "output_type": "execute_result"
    }
   ],
   "source": [
    "songs_div = []\n",
    "for i in range(0, len(pages)):\n",
    "    soup3 = BeautifulSoup(pages[i].content, \"html.parser\")\n",
    "    songs_div.extend(soup3.find_all('div', class_ = 'item-name'))\n",
    "\n",
    "len(songs_div)"
   ]
  },
  {
   "cell_type": "code",
   "execution_count": 31,
   "id": "e121931e",
   "metadata": {},
   "outputs": [],
   "source": [
    "import numpy as np\n",
    "song_thousand = []\n",
    "for song in songs_div:\n",
    "    song_thousand.append(song.get_text().replace('\\r', '').replace('\\n', '').replace('\\t', ''))\n",
    "    \n",
    "#print(songs_1000)\n",
    "song_thousand = [item.split('-') for item in song_thousand]\n",
    "#song_thousand "
   ]
  },
  {
   "cell_type": "code",
   "execution_count": 32,
   "id": "9150ebeb",
   "metadata": {},
   "outputs": [
    {
     "data": {
      "text/html": [
       "<div>\n",
       "<style scoped>\n",
       "    .dataframe tbody tr th:only-of-type {\n",
       "        vertical-align: middle;\n",
       "    }\n",
       "\n",
       "    .dataframe tbody tr th {\n",
       "        vertical-align: top;\n",
       "    }\n",
       "\n",
       "    .dataframe thead th {\n",
       "        text-align: right;\n",
       "    }\n",
       "</style>\n",
       "<table border=\"1\" class=\"dataframe\">\n",
       "  <thead>\n",
       "    <tr style=\"text-align: right;\">\n",
       "      <th></th>\n",
       "      <th>song_title</th>\n",
       "      <th>artists</th>\n",
       "    </tr>\n",
       "  </thead>\n",
       "  <tbody>\n",
       "    <tr>\n",
       "      <th>0</th>\n",
       "      <td>Bob Dylan</td>\n",
       "      <td>Like a Rolling Stone</td>\n",
       "    </tr>\n",
       "    <tr>\n",
       "      <th>1</th>\n",
       "      <td>Nirvana</td>\n",
       "      <td>Smells Like Teen Spirit</td>\n",
       "    </tr>\n",
       "    <tr>\n",
       "      <th>2</th>\n",
       "      <td>A Day in the Life</td>\n",
       "      <td>The Beatles</td>\n",
       "    </tr>\n",
       "    <tr>\n",
       "      <th>3</th>\n",
       "      <td>The Beach Boys, \"Good Vibrations\"</td>\n",
       "      <td>None</td>\n",
       "    </tr>\n",
       "    <tr>\n",
       "      <th>4</th>\n",
       "      <td>Johnny B. Goode</td>\n",
       "      <td>Chuck Berry</td>\n",
       "    </tr>\n",
       "    <tr>\n",
       "      <th>...</th>\n",
       "      <td>...</td>\n",
       "      <td>...</td>\n",
       "    </tr>\n",
       "    <tr>\n",
       "      <th>995</th>\n",
       "      <td>Drunk Drivers / Killer Whales</td>\n",
       "      <td>Car Seat Headrest</td>\n",
       "    </tr>\n",
       "    <tr>\n",
       "      <th>996</th>\n",
       "      <td>Pinball Wizard (The Who)</td>\n",
       "      <td>None</td>\n",
       "    </tr>\n",
       "    <tr>\n",
       "      <th>997</th>\n",
       "      <td>Up on the Roof</td>\n",
       "      <td>The Drifters</td>\n",
       "    </tr>\n",
       "    <tr>\n",
       "      <th>998</th>\n",
       "      <td>Burning Down the House</td>\n",
       "      <td>Talking Heads</td>\n",
       "    </tr>\n",
       "    <tr>\n",
       "      <th>999</th>\n",
       "      <td>Good Lovin'</td>\n",
       "      <td>The Young Rascals</td>\n",
       "    </tr>\n",
       "  </tbody>\n",
       "</table>\n",
       "<p>1000 rows × 2 columns</p>\n",
       "</div>"
      ],
      "text/plain": [
       "                            song_title                   artists\n",
       "0                           Bob Dylan       Like a Rolling Stone\n",
       "1                             Nirvana    Smells Like Teen Spirit\n",
       "2                   A Day in the Life                The Beatles\n",
       "3    The Beach Boys, \"Good Vibrations\"                      None\n",
       "4                     Johnny B. Goode                Chuck Berry\n",
       "..                                 ...                       ...\n",
       "995     Drunk Drivers / Killer Whales          Car Seat Headrest\n",
       "996           Pinball Wizard (The Who)                      None\n",
       "997                    Up on the Roof               The Drifters\n",
       "998            Burning Down the House              Talking Heads\n",
       "999                       Good Lovin'          The Young Rascals\n",
       "\n",
       "[1000 rows x 2 columns]"
      ]
     },
     "execution_count": 32,
     "metadata": {},
     "output_type": "execute_result"
    }
   ],
   "source": [
    "df1 = pd.DataFrame(song_thousand,columns=['song_title','artists','1','2']) # because of the intials for the artist getting an extra columns so drop the unwanted columns.\n",
    "df1 = df1.drop(columns=['1', '2'],axis = 1)\n",
    "df1"
   ]
  },
  {
   "cell_type": "code",
   "execution_count": 51,
   "id": "1ce3672d",
   "metadata": {},
   "outputs": [],
   "source": [
    "frames = [df, df1]\n",
    "df_new = pd.concat(frames)\n",
    "df_new['song_title'] = df_new['song_title'].str.strip()\n",
    "df_new['artists'] = df_new['artists'].str.strip()"
   ]
  },
  {
   "cell_type": "code",
   "execution_count": 48,
   "id": "2baf279c",
   "metadata": {},
   "outputs": [
    {
     "data": {
      "text/html": [
       "<div>\n",
       "<style scoped>\n",
       "    .dataframe tbody tr th:only-of-type {\n",
       "        vertical-align: middle;\n",
       "    }\n",
       "\n",
       "    .dataframe tbody tr th {\n",
       "        vertical-align: top;\n",
       "    }\n",
       "\n",
       "    .dataframe thead th {\n",
       "        text-align: right;\n",
       "    }\n",
       "</style>\n",
       "<table border=\"1\" class=\"dataframe\">\n",
       "  <thead>\n",
       "    <tr style=\"text-align: right;\">\n",
       "      <th></th>\n",
       "      <th>song_title</th>\n",
       "      <th>artists</th>\n",
       "    </tr>\n",
       "  </thead>\n",
       "  <tbody>\n",
       "    <tr>\n",
       "      <th>0</th>\n",
       "      <td>Unholy</td>\n",
       "      <td>Sam Smith &amp; Kim Petras</td>\n",
       "    </tr>\n",
       "    <tr>\n",
       "      <th>1</th>\n",
       "      <td>Eagle (feat. KB)</td>\n",
       "      <td>Transformation Worship</td>\n",
       "    </tr>\n",
       "    <tr>\n",
       "      <th>2</th>\n",
       "      <td>I'm Good (Blue)</td>\n",
       "      <td>David Guetta &amp; Bebe Rexha</td>\n",
       "    </tr>\n",
       "    <tr>\n",
       "      <th>3</th>\n",
       "      <td>wait in the truck</td>\n",
       "      <td>HARDY &amp; Lainey Wilson</td>\n",
       "    </tr>\n",
       "    <tr>\n",
       "      <th>4</th>\n",
       "      <td>Everywhere</td>\n",
       "      <td>Fleetwood Mac</td>\n",
       "    </tr>\n",
       "    <tr>\n",
       "      <th>...</th>\n",
       "      <td>...</td>\n",
       "      <td>...</td>\n",
       "    </tr>\n",
       "    <tr>\n",
       "      <th>995</th>\n",
       "      <td>Drunk Drivers / Killer Whales</td>\n",
       "      <td>Car Seat Headrest</td>\n",
       "    </tr>\n",
       "    <tr>\n",
       "      <th>996</th>\n",
       "      <td>Pinball Wizard (The Who)</td>\n",
       "      <td>None</td>\n",
       "    </tr>\n",
       "    <tr>\n",
       "      <th>997</th>\n",
       "      <td>Up on the Roof</td>\n",
       "      <td>The Drifters</td>\n",
       "    </tr>\n",
       "    <tr>\n",
       "      <th>998</th>\n",
       "      <td>Burning Down the House</td>\n",
       "      <td>Talking Heads</td>\n",
       "    </tr>\n",
       "    <tr>\n",
       "      <th>999</th>\n",
       "      <td>Good Lovin'</td>\n",
       "      <td>The Young Rascals</td>\n",
       "    </tr>\n",
       "  </tbody>\n",
       "</table>\n",
       "<p>1199 rows × 2 columns</p>\n",
       "</div>"
      ],
      "text/plain": [
       "                        song_title                    artists\n",
       "0                           Unholy     Sam Smith & Kim Petras\n",
       "1                 Eagle (feat. KB)     Transformation Worship\n",
       "2                  I'm Good (Blue)  David Guetta & Bebe Rexha\n",
       "3                wait in the truck      HARDY & Lainey Wilson\n",
       "4                       Everywhere              Fleetwood Mac\n",
       "..                             ...                        ...\n",
       "995  Drunk Drivers / Killer Whales          Car Seat Headrest\n",
       "996       Pinball Wizard (The Who)                       None\n",
       "997                 Up on the Roof               The Drifters\n",
       "998         Burning Down the House              Talking Heads\n",
       "999                    Good Lovin'          The Young Rascals\n",
       "\n",
       "[1199 rows x 2 columns]"
      ]
     },
     "execution_count": 48,
     "metadata": {},
     "output_type": "execute_result"
    }
   ],
   "source": [
    "df_new"
   ]
  },
  {
   "cell_type": "code",
   "execution_count": 79,
   "id": "ce6b81b1",
   "metadata": {},
   "outputs": [
    {
     "data": {
      "text/plain": [
       "song_title    0\n",
       "artists       0\n",
       "dtype: int64"
      ]
     },
     "execution_count": 79,
     "metadata": {},
     "output_type": "execute_result"
    }
   ],
   "source": [
    "# checked for the NAN's and replaced the nan with emptyvlaues\n",
    "df_new.isna().sum()\n",
    "\n",
    "df_new = df_new.fillna('')\n",
    "#df_new.isna().sum()"
   ]
  },
  {
   "cell_type": "code",
   "execution_count": 78,
   "id": "b6340a4f",
   "metadata": {},
   "outputs": [
    {
     "data": {
      "text/plain": [
       "27"
      ]
     },
     "execution_count": 78,
     "metadata": {},
     "output_type": "execute_result"
    }
   ],
   "source": [
    "# checked the duplicates and removed them from the data frame and decided not to remove \n",
    "\n",
    "len(df_new[df_new.duplicated()])"
   ]
  },
  {
   "cell_type": "code",
   "execution_count": 86,
   "id": "5af3d9b7",
   "metadata": {},
   "outputs": [],
   "source": [
    "def song_recommender():\n",
    "    a = input(\"Enter your favorite song: \")\n",
    "# here i changed the user input to lower case because end user can give the input in any case.\n",
    "# also i want to give the recommendation for the user atleast one word matches.\n",
    "# so i used inline looping.\n",
    "    \n",
    "    if((any(a.lower() in title for title in df_new['song_title'].str.lower().values)) or (any(a.lower() in artist for artist in df_new['artists'].str.lower().values))):\n",
    "#     if ((a.lower() in df_new['song_title'].str.lower().values) or (a.lower() in df_new['artists'].str.lower().values)):\n",
    "        ran_num = random.choice(df_new['song_title'])\n",
    "        print('Here you go ... We recommend this song for you \\n ENJOY listening to the song:',ran_num)\n",
    "    else:\n",
    "        print(\"Sorry, your song is not on the list and we don't have recommendations\")\n",
    "        \n",
    "        repeat=input(\"Do you want to try another song? y/n\")\n",
    "        if repeat == 'y':\n",
    "            song_recommender()\n",
    "        else:\n",
    "            print(\"Thank you for using our song recommender!\")\n"
   ]
  },
  {
   "cell_type": "code",
   "execution_count": null,
   "id": "45f7a87b",
   "metadata": {},
   "outputs": [],
   "source": [
    "song_recommender()"
   ]
  },
  {
   "cell_type": "code",
   "execution_count": null,
   "id": "84d83c75",
   "metadata": {},
   "outputs": [],
   "source": []
  },
  {
   "cell_type": "code",
   "execution_count": null,
   "id": "5cb73b7e",
   "metadata": {},
   "outputs": [],
   "source": []
  }
 ],
 "metadata": {
  "kernelspec": {
   "display_name": "Python 3 (ipykernel)",
   "language": "python",
   "name": "python3"
  },
  "language_info": {
   "codemirror_mode": {
    "name": "ipython",
    "version": 3
   },
   "file_extension": ".py",
   "mimetype": "text/x-python",
   "name": "python",
   "nbconvert_exporter": "python",
   "pygments_lexer": "ipython3",
   "version": "3.9.12"
  }
 },
 "nbformat": 4,
 "nbformat_minor": 5
}
